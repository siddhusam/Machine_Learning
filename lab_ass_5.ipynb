{
  "nbformat": 4,
  "nbformat_minor": 0,
  "metadata": {
    "colab": {
      "provenance": [],
      "authorship_tag": "ABX9TyMJmsEwlh8mU/bNxcg6cSRD",
      "include_colab_link": true
    },
    "kernelspec": {
      "name": "python3",
      "display_name": "Python 3"
    },
    "language_info": {
      "name": "python"
    }
  },
  "cells": [
    {
      "cell_type": "markdown",
      "metadata": {
        "id": "view-in-github",
        "colab_type": "text"
      },
      "source": [
        "<a href=\"https://colab.research.google.com/github/siddhusam/Machine_Learning/blob/main/lab_ass_5.ipynb\" target=\"_parent\"><img src=\"https://colab.research.google.com/assets/colab-badge.svg\" alt=\"Open In Colab\"/></a>"
      ]
    },
    {
      "cell_type": "code",
      "execution_count": null,
      "metadata": {
        "id": "F7lrY7QHSQk2"
      },
      "outputs": [],
      "source": [
        "# Question A1:\n",
        "\n",
        "# Develop a perceptron of a particular data\n",
        "\n",
        "\n",
        "\n",
        "# Data for logic gates\n",
        "\n",
        "data_gates = [\n",
        "\n",
        "    (1, 0, 0),\n",
        "\n",
        "    (1, 0, 1),\n",
        "\n",
        "    (1, 1, 0),\n",
        "\n",
        "    (1, 1, 1)\n",
        "\n",
        "    ]\n",
        "\n",
        "\n",
        "\n",
        "W0 = 10\n",
        "\n",
        "W1 = 0.2\n",
        "\n",
        "W2 = -0.75\n",
        "\n",
        "learning_rate = 0.05"
      ]
    },
    {
      "cell_type": "code",
      "source": [
        "# Creating an activation function\n",
        "\n",
        "def activation_function(number):\n",
        "\n",
        "    if number >= 0:\n",
        "\n",
        "        return 1\n",
        "\n",
        "    else:\n",
        "\n",
        "        return 0\n",
        "\n"
      ],
      "metadata": {
        "id": "dOdMFgA5Sezx"
      },
      "execution_count": null,
      "outputs": []
    },
    {
      "cell_type": "code",
      "source": [
        "# Applying data on the and gate\n",
        "\n",
        "max_iterations = 1000\n",
        "\n",
        "target_output = [0, 0, 0, 1]\n",
        "\n",
        "for _ in range(max_iterations):\n",
        "\n",
        "    error_count = 0\n",
        "\n",
        "\n",
        "\n",
        "    for i in range(len(data_gates)):\n",
        "\n",
        "        fixed, data_a, data_b = data_gates[i]\n",
        "\n",
        "        perceptor_equation = fixed * W0 + data_a * W1 + data_b * W2\n",
        "\n",
        "        actual_output = activation_function(perceptor_equation)\n",
        "\n",
        "        error = target_output[i] - actual_output\n",
        "\n",
        "\n",
        "\n",
        "        if error != 0:\n",
        "\n",
        "            W0 +="
      ],
      "metadata": {
        "id": "myZi9uTSSgO1"
      },
      "execution_count": null,
      "outputs": []
    }
  ]
}